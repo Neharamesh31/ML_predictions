{
  "cells": [
    {
      "cell_type": "code",
      "execution_count": null,
      "metadata": {
        "colab": {
          "base_uri": "https://localhost:8080/"
        },
        "id": "7TLAn5GxJtTF",
        "outputId": "d6754d11-ca5c-4549-e910-1ba8d56234ae"
      },
      "outputs": [
        {
          "output_type": "stream",
          "name": "stdout",
          "text": [
            "Mounted at /content/drive\n",
            "           Crop  Crop_Year       Season  State     Area  Production  \\\n",
            "0      Arecanut       1997  Whole Year   Assam  73814.0       56708   \n",
            "1     Arhar/Tur       1997  Kharif       Assam   6637.0        4685   \n",
            "2   Castor seed       1997  Kharif       Assam    796.0          22   \n",
            "3      Coconut        1997  Whole Year   Assam  19656.0   126905000   \n",
            "4  Cotton(lint)       1997  Kharif       Assam   1739.0         794   \n",
            "\n",
            "   Annual_Rainfall  Fertilizer  Pesticide        Yield  \n",
            "0           2051.4  7024878.38   22882.34     0.796087  \n",
            "1           2051.4   631643.29    2057.47     0.710435  \n",
            "2           2051.4    75755.32     246.76     0.238333  \n",
            "3           2051.4  1870661.52    6093.36  5238.051739  \n",
            "4           2051.4   165500.63     539.09     0.420909  \n"
          ]
        }
      ],
      "source": [
        "from google.colab import drive\n",
        "drive.mount('/content/drive')\n",
        "import pandas as pd\n",
        "\n",
        "\n",
        "file_path = '/content/drive/My Drive/Crop yield/crop yield project.csv'\n",
        "data = pd.read_csv(file_path)\n",
        "\n",
        "\n",
        "print(data.head())"
      ]
    },
    {
      "cell_type": "code",
      "execution_count": null,
      "metadata": {
        "colab": {
          "base_uri": "https://localhost:8080/"
        },
        "id": "eUA9FJUkk4TY",
        "outputId": "2b5a2ed3-a195-4452-b63b-111b88a77985"
      },
      "outputs": [
        {
          "output_type": "stream",
          "name": "stdout",
          "text": [
            "Mean Absolute Error: 9.575862136889022\n",
            "Mean Squared Error: 21120.07463964349\n",
            "R-squared: 0.9792888611318651\n"
          ]
        }
      ],
      "source": [
        "# Import necessary libraries\n",
        "from sklearn.model_selection import train_test_split\n",
        "from sklearn.preprocessing import OneHotEncoder\n",
        "import pandas as pd\n",
        "from sklearn.ensemble import RandomForestRegressor\n",
        "from sklearn.metrics import mean_absolute_error, mean_squared_error, r2_score\n",
        "\n",
        "\n",
        "\n",
        "# Cleaning the 'Season' column to remove leading/trailing whitespaces\n",
        "if 'Season' in data.columns:\n",
        "    data['Season'] = data['Season'].str.strip()\n",
        "\n",
        "# Defining features (X) and target variable (y)\n",
        "X = data.drop('Yield', axis=1)  # Features\n",
        "y = data['Yield']  # Target variable\n",
        "\n",
        "# Identifying categorical columns\n",
        "categorical_cols = ['Crop', 'Season', 'State_Name']  # Include relevant columns\n",
        "categorical_cols = [col for col in categorical_cols if col in X.columns]  # Ensure columns exist\n",
        "\n",
        "# OneHotEncoding categorical columns to convert string to float\n",
        "encoder = OneHotEncoder(sparse_output=False, handle_unknown='ignore')\n",
        "encoded_data = encoder.fit_transform(X[categorical_cols])\n",
        "\n",
        "# Convert encoded data into a DataFrame\n",
        "encoded_df = pd.DataFrame(encoded_data, columns=encoder.get_feature_names_out(categorical_cols), index=X.index)\n",
        "\n",
        "# Drop original categorical columns from X\n",
        "X = X.drop(categorical_cols, axis=1)\n",
        "\n",
        "# Concatenate encoded columns back to X\n",
        "X = pd.concat([X, encoded_df], axis=1)\n",
        "\n",
        "# Ensuring all columns in X are numeric\n",
        "X = X.apply(pd.to_numeric, errors='coerce')  # Convert everything to numeric, replacing errors with NaN\n",
        "X.fillna(0, inplace=True)  # Replace NaN values with 0 or handle appropriately\n",
        "\n",
        "# Splitting the data into training and testing sets\n",
        "X_train, X_test, y_train, y_test = train_test_split(X, y, test_size=0.1, random_state=42)\n",
        "\n",
        "# Initializing the RandomForestRegressor\n",
        "rf_model = RandomForestRegressor(random_state=42)\n",
        "\n",
        "# Training the model\n",
        "rf_model.fit(X_train, y_train)\n",
        "\n",
        "# Making predictions on the test set\n",
        "y_pred = rf_model.predict(X_test)\n",
        "\n",
        "# Evaluating the model\n",
        "mae = mean_absolute_error(y_test, y_pred)\n",
        "mse = mean_squared_error(y_test, y_pred)\n",
        "r2 = r2_score(y_test, y_pred)\n",
        "\n",
        "# Print evaluation metrics\n",
        "print(\"Mean Absolute Error:\", mae)\n",
        "print(\"Mean Squared Error:\", mse)\n",
        "print(\"R-squared:\", r2)\n"
      ]
    },
    {
      "cell_type": "code",
      "source": [],
      "metadata": {
        "id": "rpf0uApK0x80"
      },
      "execution_count": null,
      "outputs": []
    },
    {
      "cell_type": "code",
      "execution_count": null,
      "metadata": {
        "colab": {
          "background_save": true
        },
        "id": "1xnkmw0gpLEE",
        "outputId": "d2326ad7-ce3f-40ce-e06e-bc3aeae12059"
      },
      "outputs": [
        {
          "data": {
            "image/png": "[encoded data removed]",
            "text/plain": [
              "<Figure size 640x480 with 1 Axes>"
            ]
          },
          "metadata": {},
          "output_type": "display_data"
        }
      ],
      "source": [
        "import matplotlib.pyplot as plt\n",
        "\n",
        "plt.scatter(y_test, y_pred)\n",
        "plt.xlabel(\"Actual Yield\")\n",
        "plt.ylabel(\"Predicted Yield\")\n",
        "plt.title(\"Actual vs. Predicted Yield\")\n",
        "plt.show()"
      ]
    },
    {
      "cell_type": "code",
      "execution_count": null,
      "metadata": {
        "colab": {
          "base_uri": "https://localhost:8080/"
        },
        "id": "8X3cmRtNqLLV",
        "outputId": "a98dd307-d3aa-48e7-9fad-ce25f392bf35"
      },
      "outputs": [
        {
          "name": "stdout",
          "output_type": "stream",
          "text": [
            "1.4193668809699995\n"
          ]
        }
      ],
      "source": [
        "# Getting individual predictions\n",
        "first_prediction = y_pred[1]\n",
        "print(first_prediction)"
      ]
    },
    {
      "cell_type": "code",
      "execution_count": null,
      "metadata": {
        "colab": {
          "base_uri": "https://localhost:8080/"
        },
        "id": "9TFIGmxjmUgR",
        "outputId": "5890aca9-70cc-4b4e-9c04-5439e623327a"
      },
      "outputs": [
        {
          "name": "stdout",
          "output_type": "stream",
          "text": [
            "Feature Importance:\n",
            "Crop_Year: 0.00361947\n",
            "State: 0.00000000\n",
            "Area: 0.02679602\n",
            "Production: 0.03582583\n",
            "Annual_Rainfall: 0.03991194\n",
            "Fertilizer: 0.01122920\n",
            "Pesticide: 0.03605286\n",
            "Crop_Arecanut: 0.00000001\n",
            "Crop_Arhar/Tur: 0.00000005\n",
            "Crop_Bajra: 0.00000033\n",
            "Crop_Banana: 0.00000910\n",
            "Crop_Barley: 0.00000000\n",
            "Crop_Black pepper: 0.00000000\n",
            "Crop_Cardamom: 0.00000000\n",
            "Crop_Cashewnut: 0.00000045\n",
            "Crop_Castor seed: 0.00000000\n",
            "Crop_Coconut : 0.84612872\n",
            "Crop_Coriander: 0.00000000\n",
            "Crop_Cotton(lint): 0.00000016\n",
            "Crop_Cowpea(Lobia): 0.00000000\n",
            "Crop_Dry chillies: 0.00000003\n",
            "Crop_Garlic: 0.00000016\n",
            "Crop_Ginger: 0.00000052\n",
            "Crop_Gram: 0.00000000\n",
            "Crop_Groundnut: 0.00000000\n",
            "Crop_Guar seed: 0.00000000\n",
            "Crop_Horse-gram: 0.00000000\n",
            "Crop_Jowar: 0.00000000\n",
            "Crop_Jute: 0.00000046\n",
            "Crop_Khesari: 0.00000000\n",
            "Crop_Linseed: 0.00000000\n",
            "Crop_Maize: 0.00000872\n",
            "Crop_Masoor: 0.00000000\n",
            "Crop_Mesta: 0.00000023\n",
            "Crop_Moong(Green Gram): 0.00000000\n",
            "Crop_Moth: 0.00000000\n",
            "Crop_Niger seed: 0.00000000\n",
            "Crop_Oilseeds total: 0.00000000\n",
            "Crop_Onion: 0.00000403\n",
            "Crop_Other  Rabi pulses: 0.00000000\n",
            "Crop_Other Cereals: 0.00000000\n",
            "Crop_Other Kharif pulses: 0.00000000\n",
            "Crop_Other Summer Pulses: 0.00000000\n",
            "Crop_Peas & beans (Pulses): 0.00000001\n",
            "Crop_Potato: 0.00000583\n",
            "Crop_Ragi: 0.00000000\n",
            "Crop_Rapeseed &Mustard: 0.00000000\n",
            "Crop_Rice: 0.00000004\n",
            "Crop_Safflower: 0.00000000\n",
            "Crop_Sannhamp: 0.00000000\n",
            "Crop_Sesamum: 0.00000004\n",
            "Crop_Small millets: 0.00000000\n",
            "Crop_Soyabean: 0.00000000\n",
            "Crop_Sugarcane: 0.00009398\n",
            "Crop_Sunflower: 0.00000000\n",
            "Crop_Sweet potato: 0.00000109\n",
            "Crop_Tapioca: 0.00000291\n",
            "Crop_Tobacco: 0.00000001\n",
            "Crop_Turmeric: 0.00000008\n",
            "Crop_Urad: 0.00000000\n",
            "Crop_Wheat: 0.00000000\n",
            "Crop_other oilseeds: 0.00000009\n",
            "Season_Autumn: 0.00000956\n",
            "Season_Kharif: 0.00002005\n",
            "Season_Rabi: 0.00000079\n",
            "Season_Summer: 0.00000011\n",
            "Season_Whole Year: 0.00027701\n",
            "Season_Winter: 0.00000005\n"
          ]
        }
      ],
      "source": [
        "feature_importance = rf_model.feature_importances_\n",
        "print(\"Feature Importance:\")\n",
        "for feature, importance in zip(X.columns, feature_importance):\n",
        "    print(f\"{feature}: {importance:.8f}\")"
      ]
    },
    {
      "cell_type": "code",
      "execution_count": null,
      "metadata": {
        "colab": {
          "base_uri": "https://localhost:8080/",
          "height": 472
        },
        "id": "0QGJ3o_tGRin",
        "outputId": "8771db42-831b-4a6d-8744-3f7947898985"
      },
      "outputs": [
        {
          "data": {
            "image/png": "[encoded data removed]",
            "text/plain": [
              "<Figure size 640x480 with 1 Axes>"
            ]
          },
          "metadata": {},
          "output_type": "display_data"
        }
      ],
      "source": [
        "import matplotlib.pyplot as plt\n",
        "import numpy as np\n",
        "\n",
        "# Get indices of top N features\n",
        "top_n = 10  # Display top 10 features\n",
        "indices = np.argsort(feature_importance)[-top_n:]\n",
        "\n",
        "# Get top feature names and importance values\n",
        "# Use X.columns instead of feature_names\n",
        "top_feature_names = [X.columns[i] for i in indices]\n",
        "top_feature_importance = feature_importance[indices]\n",
        "\n",
        "# Plot top features\n",
        "plt.barh(top_feature_names, top_feature_importance)\n",
        "plt.xlabel('Feature Importance')\n",
        "plt.ylabel('Features')\n",
        "plt.title(f'Top {top_n} Feature Importance in Random Forest')\n",
        "plt.show()"
      ]
    },
    {
      "cell_type": "code",
      "execution_count": null,
      "metadata": {
        "colab": {
          "background_save": true,
          "base_uri": "https://localhost:8080/"
        },
        "id": "n4kojk9eTc6C",
        "outputId": "1eb27ccb-8eeb-40ad-c7ae-3a9539e461b3"
      },
      "outputs": [
        {
          "name": "stdout",
          "output_type": "stream",
          "text": [
            "Fitting 5 folds for each of 27 candidates, totalling 135 fits\n",
            "[CV] END max_depth=None, min_samples_split=2, n_estimators=100; total time=  24.4s\n",
            "[CV] END max_depth=None, min_samples_split=2, n_estimators=100; total time=  25.2s\n",
            "[CV] END max_depth=None, min_samples_split=2, n_estimators=100; total time=  25.1s\n",
            "[CV] END max_depth=None, min_samples_split=2, n_estimators=100; total time=  23.9s\n",
            "[CV] END max_depth=None, min_samples_split=2, n_estimators=100; total time=  25.0s\n",
            "[CV] END max_depth=None, min_samples_split=2, n_estimators=200; total time=  49.1s\n",
            "[CV] END max_depth=None, min_samples_split=2, n_estimators=200; total time=  50.2s\n",
            "[CV] END max_depth=None, min_samples_split=2, n_estimators=200; total time=  49.6s\n",
            "[CV] END max_depth=None, min_samples_split=2, n_estimators=200; total time=  51.7s\n",
            "[CV] END max_depth=None, min_samples_split=2, n_estimators=200; total time=  51.8s\n",
            "[CV] END max_depth=None, min_samples_split=2, n_estimators=300; total time= 1.3min\n",
            "[CV] END max_depth=None, min_samples_split=2, n_estimators=300; total time= 1.2min\n",
            "[CV] END max_depth=None, min_samples_split=2, n_estimators=300; total time= 1.2min\n",
            "[CV] END max_depth=None, min_samples_split=2, n_estimators=300; total time= 1.3min\n",
            "[CV] END max_depth=None, min_samples_split=2, n_estimators=300; total time= 1.3min\n",
            "[CV] END max_depth=None, min_samples_split=5, n_estimators=100; total time=  22.9s\n",
            "[CV] END max_depth=None, min_samples_split=5, n_estimators=100; total time=  23.1s\n",
            "[CV] END max_depth=None, min_samples_split=5, n_estimators=100; total time=  22.9s\n",
            "[CV] END max_depth=None, min_samples_split=5, n_estimators=100; total time=  24.0s\n",
            "[CV] END max_depth=None, min_samples_split=5, n_estimators=100; total time=  21.8s\n",
            "[CV] END max_depth=None, min_samples_split=5, n_estimators=200; total time=  48.4s\n",
            "[CV] END max_depth=None, min_samples_split=5, n_estimators=200; total time=  46.7s\n",
            "[CV] END max_depth=None, min_samples_split=5, n_estimators=200; total time=  45.6s\n",
            "[CV] END max_depth=None, min_samples_split=5, n_estimators=200; total time=  44.7s\n",
            "[CV] END max_depth=None, min_samples_split=5, n_estimators=200; total time=  44.8s\n",
            "[CV] END max_depth=None, min_samples_split=5, n_estimators=300; total time= 1.1min\n",
            "[CV] END max_depth=None, min_samples_split=5, n_estimators=300; total time= 1.1min\n",
            "[CV] END max_depth=None, min_samples_split=5, n_estimators=300; total time= 1.2min\n",
            "[CV] END max_depth=None, min_samples_split=5, n_estimators=300; total time= 1.1min\n",
            "[CV] END max_depth=None, min_samples_split=5, n_estimators=300; total time= 1.1min\n",
            "[CV] END max_depth=None, min_samples_split=10, n_estimators=100; total time=  22.4s\n",
            "[CV] END max_depth=None, min_samples_split=10, n_estimators=100; total time=  20.6s\n",
            "[CV] END max_depth=None, min_samples_split=10, n_estimators=100; total time=  22.2s\n",
            "[CV] END max_depth=None, min_samples_split=10, n_estimators=100; total time=  20.7s\n",
            "[CV] END max_depth=None, min_samples_split=10, n_estimators=100; total time=  22.9s\n",
            "[CV] END max_depth=None, min_samples_split=10, n_estimators=200; total time=  43.8s\n",
            "[CV] END max_depth=None, min_samples_split=10, n_estimators=200; total time=  42.8s\n",
            "[CV] END max_depth=None, min_samples_split=10, n_estimators=200; total time=  43.1s\n",
            "[CV] END max_depth=None, min_samples_split=10, n_estimators=200; total time=  42.7s\n",
            "[CV] END max_depth=None, min_samples_split=10, n_estimators=200; total time=  42.7s\n",
            "[CV] END max_depth=None, min_samples_split=10, n_estimators=300; total time= 1.1min\n",
            "[CV] END max_depth=None, min_samples_split=10, n_estimators=300; total time= 1.1min\n",
            "[CV] END max_depth=None, min_samples_split=10, n_estimators=300; total time= 1.1min\n",
            "[CV] END max_depth=None, min_samples_split=10, n_estimators=300; total time= 1.1min\n",
            "[CV] END max_depth=None, min_samples_split=10, n_estimators=300; total time= 1.1min\n",
            "[CV] END max_depth=10, min_samples_split=2, n_estimators=100; total time=   9.2s\n",
            "[CV] END max_depth=10, min_samples_split=2, n_estimators=100; total time=   7.9s\n",
            "[CV] END max_depth=10, min_samples_split=2, n_estimators=100; total time=   9.1s\n",
            "[CV] END max_depth=10, min_samples_split=2, n_estimators=100; total time=   8.2s\n",
            "[CV] END max_depth=10, min_samples_split=2, n_estimators=100; total time=   8.8s\n",
            "[CV] END max_depth=10, min_samples_split=2, n_estimators=200; total time=  16.9s\n",
            "[CV] END max_depth=10, min_samples_split=2, n_estimators=200; total time=  18.7s\n",
            "[CV] END max_depth=10, min_samples_split=2, n_estimators=200; total time=  18.0s\n",
            "[CV] END max_depth=10, min_samples_split=2, n_estimators=200; total time=  16.9s\n",
            "[CV] END max_depth=10, min_samples_split=2, n_estimators=200; total time=  16.9s\n",
            "[CV] END max_depth=10, min_samples_split=2, n_estimators=300; total time=  25.9s\n",
            "[CV] END max_depth=10, min_samples_split=2, n_estimators=300; total time=  25.7s\n",
            "[CV] END max_depth=10, min_samples_split=2, n_estimators=300; total time=  24.9s\n",
            "[CV] END max_depth=10, min_samples_split=2, n_estimators=300; total time=  25.9s\n",
            "[CV] END max_depth=10, min_samples_split=2, n_estimators=300; total time=  25.9s\n",
            "[CV] END max_depth=10, min_samples_split=5, n_estimators=100; total time=   8.6s\n",
            "[CV] END max_depth=10, min_samples_split=5, n_estimators=100; total time=   8.2s\n",
            "[CV] END max_depth=10, min_samples_split=5, n_estimators=100; total time=   9.1s\n",
            "[CV] END max_depth=10, min_samples_split=5, n_estimators=100; total time=   7.7s\n",
            "[CV] END max_depth=10, min_samples_split=5, n_estimators=100; total time=   9.0s\n",
            "[CV] END max_depth=10, min_samples_split=5, n_estimators=200; total time=  16.7s\n",
            "[CV] END max_depth=10, min_samples_split=5, n_estimators=200; total time=  16.7s\n",
            "[CV] END max_depth=10, min_samples_split=5, n_estimators=200; total time=  17.1s\n",
            "[CV] END max_depth=10, min_samples_split=5, n_estimators=200; total time=  17.7s\n",
            "[CV] END max_depth=10, min_samples_split=5, n_estimators=200; total time=  18.3s\n",
            "[CV] END max_depth=10, min_samples_split=5, n_estimators=300; total time=  25.7s\n",
            "[CV] END max_depth=10, min_samples_split=5, n_estimators=300; total time=  24.6s\n",
            "[CV] END max_depth=10, min_samples_split=5, n_estimators=300; total time=  25.8s\n",
            "[CV] END max_depth=10, min_samples_split=5, n_estimators=300; total time=  25.8s\n",
            "[CV] END max_depth=10, min_samples_split=5, n_estimators=300; total time=  25.7s\n",
            "[CV] END max_depth=10, min_samples_split=10, n_estimators=100; total time=   7.8s\n",
            "[CV] END max_depth=10, min_samples_split=10, n_estimators=100; total time=   9.1s\n",
            "[CV] END max_depth=10, min_samples_split=10, n_estimators=100; total time=   8.2s\n",
            "[CV] END max_depth=10, min_samples_split=10, n_estimators=100; total time=   8.7s\n",
            "[CV] END max_depth=10, min_samples_split=10, n_estimators=100; total time=   9.0s\n",
            "[CV] END max_depth=10, min_samples_split=10, n_estimators=200; total time=  16.6s\n",
            "[CV] END max_depth=10, min_samples_split=10, n_estimators=200; total time=  16.7s\n",
            "[CV] END max_depth=10, min_samples_split=10, n_estimators=200; total time=  16.6s\n",
            "[CV] END max_depth=10, min_samples_split=10, n_estimators=200; total time=  16.6s\n",
            "[CV] END max_depth=10, min_samples_split=10, n_estimators=200; total time=  17.6s\n",
            "[CV] END max_depth=10, min_samples_split=10, n_estimators=300; total time=  24.9s\n",
            "[CV] END max_depth=10, min_samples_split=10, n_estimators=300; total time=  25.5s\n",
            "[CV] END max_depth=10, min_samples_split=10, n_estimators=300; total time=  25.6s\n",
            "[CV] END max_depth=10, min_samples_split=10, n_estimators=300; total time=  25.3s\n",
            "[CV] END max_depth=10, min_samples_split=10, n_estimators=300; total time=  24.7s\n",
            "[CV] END max_depth=20, min_samples_split=2, n_estimators=100; total time=  16.1s\n",
            "[CV] END max_depth=20, min_samples_split=2, n_estimators=100; total time=  16.3s\n",
            "[CV] END max_depth=20, min_samples_split=2, n_estimators=100; total time=  16.0s\n",
            "[CV] END max_depth=20, min_samples_split=2, n_estimators=100; total time=  15.8s\n",
            "[CV] END max_depth=20, min_samples_split=2, n_estimators=100; total time=  15.8s\n",
            "[CV] END max_depth=20, min_samples_split=2, n_estimators=200; total time=  31.2s\n",
            "[CV] END max_depth=20, min_samples_split=2, n_estimators=200; total time=  31.4s\n",
            "[CV] END max_depth=20, min_samples_split=2, n_estimators=200; total time=  31.8s\n",
            "[CV] END max_depth=20, min_samples_split=2, n_estimators=200; total time=  32.4s\n",
            "[CV] END max_depth=20, min_samples_split=2, n_estimators=200; total time=  31.5s\n",
            "[CV] END max_depth=20, min_samples_split=2, n_estimators=300; total time=  46.8s\n",
            "[CV] END max_depth=20, min_samples_split=2, n_estimators=300; total time=  47.2s\n",
            "[CV] END max_depth=20, min_samples_split=2, n_estimators=300; total time=  48.1s\n",
            "[CV] END max_depth=20, min_samples_split=2, n_estimators=300; total time=  47.3s\n",
            "[CV] END max_depth=20, min_samples_split=2, n_estimators=300; total time=  47.1s\n",
            "[CV] END max_depth=20, min_samples_split=5, n_estimators=100; total time=  15.8s\n",
            "[CV] END max_depth=20, min_samples_split=5, n_estimators=100; total time=  15.9s\n",
            "[CV] END max_depth=20, min_samples_split=5, n_estimators=100; total time=  15.9s\n",
            "[CV] END max_depth=20, min_samples_split=5, n_estimators=100; total time=  15.5s\n",
            "[CV] END max_depth=20, min_samples_split=5, n_estimators=100; total time=  15.4s\n",
            "[CV] END max_depth=20, min_samples_split=5, n_estimators=200; total time=  30.6s\n",
            "[CV] END max_depth=20, min_samples_split=5, n_estimators=200; total time=  30.7s\n",
            "[CV] END max_depth=20, min_samples_split=5, n_estimators=200; total time=  30.7s\n",
            "[CV] END max_depth=20, min_samples_split=5, n_estimators=200; total time=  30.8s\n",
            "[CV] END max_depth=20, min_samples_split=5, n_estimators=200; total time=  31.4s\n",
            "[CV] END max_depth=20, min_samples_split=5, n_estimators=300; total time=  46.7s\n",
            "[CV] END max_depth=20, min_samples_split=5, n_estimators=300; total time=  46.1s\n",
            "[CV] END max_depth=20, min_samples_split=5, n_estimators=300; total time=  46.7s\n",
            "[CV] END max_depth=20, min_samples_split=5, n_estimators=300; total time=  46.3s\n",
            "[CV] END max_depth=20, min_samples_split=5, n_estimators=300; total time=  47.0s\n",
            "[CV] END max_depth=20, min_samples_split=10, n_estimators=100; total time=  15.2s\n",
            "[CV] END max_depth=20, min_samples_split=10, n_estimators=100; total time=  15.2s\n",
            "[CV] END max_depth=20, min_samples_split=10, n_estimators=100; total time=  15.4s\n",
            "[CV] END max_depth=20, min_samples_split=10, n_estimators=100; total time=  15.2s\n",
            "[CV] END max_depth=20, min_samples_split=10, n_estimators=100; total time=  15.3s\n",
            "[CV] END max_depth=20, min_samples_split=10, n_estimators=200; total time=  30.2s\n",
            "[CV] END max_depth=20, min_samples_split=10, n_estimators=200; total time=  30.3s\n",
            "[CV] END max_depth=20, min_samples_split=10, n_estimators=200; total time=  30.4s\n",
            "[CV] END max_depth=20, min_samples_split=10, n_estimators=200; total time=  30.7s\n",
            "[CV] END max_depth=20, min_samples_split=10, n_estimators=200; total time=  31.2s\n",
            "[CV] END max_depth=20, min_samples_split=10, n_estimators=300; total time=  45.6s\n",
            "[CV] END max_depth=20, min_samples_split=10, n_estimators=300; total time=  45.6s\n",
            "[CV] END max_depth=20, min_samples_split=10, n_estimators=300; total time=  45.6s\n",
            "[CV] END max_depth=20, min_samples_split=10, n_estimators=300; total time=  45.5s\n",
            "[CV] END max_depth=20, min_samples_split=10, n_estimators=300; total time=  45.9s\n"
          ]
        }
      ],
      "source": [
        "from sklearn.model_selection import GridSearchCV\n",
        "from sklearn.ensemble import RandomForestRegressor\n",
        "# ... (Your existing code for data preprocessing and model initialization) ...\n",
        "\n",
        "# Define the parameter grid\n",
        "param_grid = {\n",
        "    'n_estimators': [100, 200, 300],  # Number of trees in the forest\n",
        "    'max_depth': [None, 10, 20],  # Maximum depth of each tree\n",
        "    'min_samples_split': [2, 5, 10]  # Minimum number of samples required to split a node\n",
        "}\n",
        "\n",
        "# Initialize the GridSearchCV object\n",
        "grid_search = GridSearchCV(estimator= rf_model, param_grid=param_grid,\n",
        "                           scoring='r2', cv=5, verbose=2)\n",
        "\n",
        "# Fit the GridSearchCV to the training data\n",
        "grid_search.fit(X_train, y_train)\n",
        "\n",
        "# Get the best model and its hyperparameters\n",
        "best_model = grid_search.best_estimator_\n",
        "best_params = grid_search.best_params_\n",
        "\n",
        "# ... (Your existing code for model evaluation and prediction) ..."
      ]
    },
    {
      "cell_type": "code",
      "source": [
        "from sklearn.ensemble import RandomForestRegressor\n",
        "from sklearn.metrics import mean_squared_error\n",
        "import numpy as np\n",
        "\n",
        "test_sizes = [0.1, 0.2, 0.3, 0.4]\n",
        "rmse_values = []\n",
        "r2_values = []\n",
        "\n",
        "for test_size in test_sizes:\n",
        "   X_train, X_test, y_train, y_test = train_test_split(X, y, test_size=test_size, random_state=42)\n",
        "   rf_model = RandomForestRegressor(random_state=42)\n",
        "   rf_model.fit(X_train, y_train)\n",
        "   y_pred = rf_model.predict(X_test)\n",
        "   rmse_values.append(np.sqrt(mean_squared_error(y_test, y_pred)))\n",
        "   r2_values.append(r2_score(y_test, y_pred))\n",
        "   print(\"RMSE values for test sizes\", test_sizes, \":\", rmse_values)"
      ],
      "metadata": {
        "colab": {
          "base_uri": "https://localhost:8080/"
        },
        "id": "lgbKyhEe1N20",
        "outputId": "bd23102d-64d5-46a4-a215-4fbdcb415452"
      },
      "execution_count": null,
      "outputs": [
        {
          "output_type": "stream",
          "name": "stdout",
          "text": [
            "RMSE values for test sizes [0.1, 0.2, 0.3, 0.4] : [145.32747379502436]\n",
            "RMSE values for test sizes [0.1, 0.2, 0.3, 0.4] : [145.32747379502436, 107.71535192155969]\n",
            "RMSE values for test sizes [0.1, 0.2, 0.3, 0.4] : [145.32747379502436, 107.71535192155969, 327.3842468376078]\n",
            "RMSE values for test sizes [0.1, 0.2, 0.3, 0.4] : [145.32747379502436, 107.71535192155969, 327.3842468376078, 286.71376375161174]\n"
          ]
        }
      ]
    },
    {
      "cell_type": "code",
      "source": [
        "# Assuming 'rf_model' is your trained RandomForestRegressor\n",
        "predictions = rf_model.predict(X)  # Predict on the entire dataset (X)\n",
        "data['Predicted_Yield'] = predictions  # Add a new column 'Predicted_Yield'\n",
        "print(data[['Yield', 'Predicted_Yield']].head())  # Display actual and predicted yields"
      ],
      "metadata": {
        "colab": {
          "base_uri": "https://localhost:8080/"
        },
        "id": "2XCZ6nTS7rPX",
        "outputId": "27589b8d-1a80-42c2-f68e-cfc621e96619"
      },
      "execution_count": null,
      "outputs": [
        {
          "output_type": "stream",
          "name": "stdout",
          "text": [
            "         Yield  Predicted_Yield\n",
            "0     0.796087         0.803553\n",
            "1     0.710435         0.760962\n",
            "2     0.238333         0.294408\n",
            "3  5238.051739      6771.958685\n",
            "4     0.420909         0.456687\n"
          ]
        }
      ]
    },
    {
      "cell_type": "code",
      "source": [
        "from google.colab import drive\n",
        "drive.mount('/content/drive')\n",
        "import pandas as pd\n",
        "\n",
        "\n",
        "file_path = '/content/drive/My Drive/Crop yield/crop yield project.csv'\n",
        "data = pd.read_csv(file_path)\n",
        "\n",
        "\n",
        "true_target_values = data['Yield']\n",
        "print(true_target_values)"
      ],
      "metadata": {
        "colab": {
          "base_uri": "https://localhost:8080/"
        },
        "id": "JfRMPq4Wohrm",
        "outputId": "a994ee21-c0d9-4f9a-c9b9-3a9907d95668"
      },
      "execution_count": null,
      "outputs": [
        {
          "output_type": "stream",
          "name": "stdout",
          "text": [
            "Mounted at /content/drive\n",
            "0           0.796087\n",
            "1           0.710435\n",
            "2           0.238333\n",
            "3        5238.051739\n",
            "4           0.420909\n",
            "            ...     \n",
            "19684       0.500000\n",
            "19685       3.000000\n",
            "19686       1.285000\n",
            "19687       0.016667\n",
            "19688       1.261818\n",
            "Name: Yield, Length: 19689, dtype: float64\n"
          ]
        }
      ]
    }
  ],
  "metadata": {
    "colab": {
      "provenance": []
    },
    "kernelspec": {
      "display_name": "Python 3",
      "name": "python3"
    },
    "language_info": {
      "name": "python"
    }
  },
  "nbformat": 4,
  "nbformat_minor": 0
}