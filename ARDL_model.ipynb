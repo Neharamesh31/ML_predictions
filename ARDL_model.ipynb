{
  "nbformat": 4,
  "nbformat_minor": 0,
  "metadata": {
    "colab": {
      "provenance": []
    },
    "kernelspec": {
      "name": "python3",
      "display_name": "Python 3"
    },
    "language_info": {
      "name": "python"
    }
  },
  "cells": [
    {
      "cell_type": "code",
      "execution_count": null,
      "metadata": {
        "colab": {
          "base_uri": "https://localhost:8080/"
        },
        "id": "G0JE2jPOe0Lr",
        "outputId": "5a224a1d-4b35-4846-9c76-5acd3d1272c0"
      },
      "outputs": [
        {
          "output_type": "stream",
          "name": "stdout",
          "text": [
            "Requirement already satisfied: statsmodels in /usr/local/lib/python3.10/dist-packages (0.14.4)\n",
            "Requirement already satisfied: pandas in /usr/local/lib/python3.10/dist-packages (2.2.2)\n",
            "Requirement already satisfied: numpy in /usr/local/lib/python3.10/dist-packages (1.26.4)\n",
            "Requirement already satisfied: matplotlib in /usr/local/lib/python3.10/dist-packages (3.8.0)\n",
            "Requirement already satisfied: scipy!=1.9.2,>=1.8 in /usr/local/lib/python3.10/dist-packages (from statsmodels) (1.13.1)\n",
            "Requirement already satisfied: patsy>=0.5.6 in /usr/local/lib/python3.10/dist-packages (from statsmodels) (1.0.1)\n",
            "Requirement already satisfied: packaging>=21.3 in /usr/local/lib/python3.10/dist-packages (from statsmodels) (24.2)\n",
            "Requirement already satisfied: python-dateutil>=2.8.2 in /usr/local/lib/python3.10/dist-packages (from pandas) (2.8.2)\n",
            "Requirement already satisfied: pytz>=2020.1 in /usr/local/lib/python3.10/dist-packages (from pandas) (2024.2)\n",
            "Requirement already satisfied: tzdata>=2022.7 in /usr/local/lib/python3.10/dist-packages (from pandas) (2024.2)\n",
            "Requirement already satisfied: contourpy>=1.0.1 in /usr/local/lib/python3.10/dist-packages (from matplotlib) (1.3.1)\n",
            "Requirement already satisfied: cycler>=0.10 in /usr/local/lib/python3.10/dist-packages (from matplotlib) (0.12.1)\n",
            "Requirement already satisfied: fonttools>=4.22.0 in /usr/local/lib/python3.10/dist-packages (from matplotlib) (4.55.2)\n",
            "Requirement already satisfied: kiwisolver>=1.0.1 in /usr/local/lib/python3.10/dist-packages (from matplotlib) (1.4.7)\n",
            "Requirement already satisfied: pillow>=6.2.0 in /usr/local/lib/python3.10/dist-packages (from matplotlib) (11.0.0)\n",
            "Requirement already satisfied: pyparsing>=2.3.1 in /usr/local/lib/python3.10/dist-packages (from matplotlib) (3.2.0)\n",
            "Requirement already satisfied: six>=1.5 in /usr/local/lib/python3.10/dist-packages (from python-dateutil>=2.8.2->pandas) (1.17.0)\n"
          ]
        }
      ],
      "source": [
        "pip install statsmodels pandas numpy matplotlib"
      ]
    },
    {
      "cell_type": "code",
      "source": [
        "import pandas as pd\n",
        "import numpy as np\n",
        "import matplotlib.pyplot as plt\n",
        "from statsmodels.tsa.ar_model import AutoReg\n",
        "from statsmodels.tsa.stattools import adfuller\n",
        "from statsmodels.tsa.ardl import ARDL"
      ],
      "metadata": {
        "id": "Z_BuB1ikfKNw"
      },
      "execution_count": null,
      "outputs": []
    },
    {
      "cell_type": "code",
      "source": [
        "from google.colab import drive\n",
        "drive.mount('/content/drive')\n",
        "import pandas as pd\n",
        "\n",
        "\n",
        "\n",
        "\n",
        "file_path = '/content/drive/My Drive/Crop yield/crop yield project.csv'\n",
        "data = pd.read_csv(file_path)\n",
        "\n",
        "\n",
        "\n",
        "\n",
        "print(data.head())"
      ],
      "metadata": {
        "colab": {
          "base_uri": "https://localhost:8080/"
        },
        "id": "LbJoRawWfO70",
        "outputId": "94b8f3d2-e6ce-4c4d-dd15-c548bb4f2b54"
      },
      "execution_count": null,
      "outputs": [
        {
          "output_type": "stream",
          "name": "stdout",
          "text": [
            "Drive already mounted at /content/drive; to attempt to forcibly remount, call drive.mount(\"/content/drive\", force_remount=True).\n",
            "           Crop  Crop_Year       Season  State     Area  Production  \\\n",
            "0      Arecanut       1997  Whole Year   Assam  73814.0       56708   \n",
            "1     Arhar/Tur       1997  Kharif       Assam   6637.0        4685   \n",
            "2   Castor seed       1997  Kharif       Assam    796.0          22   \n",
            "3      Coconut        1997  Whole Year   Assam  19656.0   126905000   \n",
            "4  Cotton(lint)       1997  Kharif       Assam   1739.0         794   \n",
            "\n",
            "   Annual_Rainfall  Fertilizer  Pesticide        Yield  \n",
            "0           2051.4  7024878.38   22882.34     0.796087  \n",
            "1           2051.4   631643.29    2057.47     0.710435  \n",
            "2           2051.4    75755.32     246.76     0.238333  \n",
            "3           2051.4  1870661.52    6093.36  5238.051739  \n",
            "4           2051.4   165500.63     539.09     0.420909  \n",
            "Drive already mounted at /content/drive; to attempt to forcibly remount, call drive.mount(\"/content/drive\", force_remount=True).\n",
            "           Crop  Crop_Year       Season  State     Area  Production  \\\n",
            "0      Arecanut       1997  Whole Year   Assam  73814.0       56708   \n",
            "1     Arhar/Tur       1997  Kharif       Assam   6637.0        4685   \n",
            "2   Castor seed       1997  Kharif       Assam    796.0          22   \n",
            "3      Coconut        1997  Whole Year   Assam  19656.0   126905000   \n",
            "4  Cotton(lint)       1997  Kharif       Assam   1739.0         794   \n",
            "\n",
            "   Annual_Rainfall  Fertilizer  Pesticide        Yield  \n",
            "0           2051.4  7024878.38   22882.34     0.796087  \n",
            "1           2051.4   631643.29    2057.47     0.710435  \n",
            "2           2051.4    75755.32     246.76     0.238333  \n",
            "3           2051.4  1870661.52    6093.36  5238.051739  \n",
            "4           2051.4   165500.63     539.09     0.420909  \n"
          ]
        }
      ]
    },
    {
      "cell_type": "code",
      "source": [
        "import pandas as pd\n",
        "import numpy as np\n",
        "import matplotlib.pyplot as plt\n",
        "from statsmodels.tsa.ar_model import AutoReg\n",
        "from statsmodels.tsa.stattools import adfuller\n",
        "from statsmodels.tsa.ardl import ARDL\n",
        "from google.colab import drive\n",
        "\n",
        "from google.colab import drive\n",
        "drive.mount('/content/drive')\n",
        "import pandas as pd\n",
        "\n",
        "\n",
        "\n",
        "\n",
        "file_path = '/content/drive/My Drive/Crop yield/crop yield project.csv'\n",
        "data = pd.read_csv(file_path)\n",
        "\n",
        "\n",
        "\n",
        "\n",
        "print(data.head())\n",
        "\n",
        "def adf_test(series):\n",
        "    result = adfuller(series, autolag='AIC')\n",
        "    print(f\"ADF Statistic: {result[0]}\")\n",
        "    print(f\"p-value: {result[1]}\")\n",
        "    if result[1] <= 0.05:\n",
        "        print(\"Series is Stationary\")\n",
        "    else:\n",
        "        print(\"Series is Non-Stationary\")\n",
        "\n",
        "# Load the data\n",
        "file_path = '/content/drive/My Drive/Crop yield/crop yield project.csv'  # Update with your file path\n",
        "data = pd.read_csv(file_path)\n",
        "\n",
        "# Apply ADF test on each variable\n",
        "adf_test(data['Production'])\n",
        "adf_test(data['Annual_Rainfall'])\n",
        "adf_test(data['Fertilizer'])\n"
      ],
      "metadata": {
        "colab": {
          "base_uri": "https://localhost:8080/"
        },
        "id": "wcwvWimf8kyz",
        "outputId": "22dec707-122e-40ba-d86f-6e63428e97a7"
      },
      "execution_count": null,
      "outputs": [
        {
          "output_type": "stream",
          "name": "stdout",
          "text": [
            "Drive already mounted at /content/drive; to attempt to forcibly remount, call drive.mount(\"/content/drive\", force_remount=True).\n",
            "           Crop  Crop_Year       Season  State     Area  Production  \\\n",
            "0      Arecanut       1997  Whole Year   Assam  73814.0       56708   \n",
            "1     Arhar/Tur       1997  Kharif       Assam   6637.0        4685   \n",
            "2   Castor seed       1997  Kharif       Assam    796.0          22   \n",
            "3      Coconut        1997  Whole Year   Assam  19656.0   126905000   \n",
            "4  Cotton(lint)       1997  Kharif       Assam   1739.0         794   \n",
            "\n",
            "   Annual_Rainfall  Fertilizer  Pesticide        Yield  \n",
            "0           2051.4  7024878.38   22882.34     0.796087  \n",
            "1           2051.4   631643.29    2057.47     0.710435  \n",
            "2           2051.4    75755.32     246.76     0.238333  \n",
            "3           2051.4  1870661.52    6093.36  5238.051739  \n",
            "4           2051.4   165500.63     539.09     0.420909  \n",
            "ADF Statistic: -23.054062813465453\n",
            "p-value: 0.0\n",
            "Series is Stationary\n",
            "ADF Statistic: -15.166201012864514\n",
            "p-value: 6.486167741230639e-28\n",
            "Series is Stationary\n",
            "ADF Statistic: -21.74326204140281\n",
            "p-value: 0.0\n",
            "Series is Stationary\n"
          ]
        }
      ]
    },
    {
      "cell_type": "code",
      "source": [
        "from statsmodels.tsa.ardl import ARDL\n",
        "\n",
        "# Define endogenous and exogenous variables\n",
        "endog = data['Production']  # Dependent variable (Food Supply)\n",
        "exog_vars = data[['Fertilizer', 'Annual_Rainfall']]  # Exogenous variables as a DataFrame\n",
        "\n",
        "# Assuming you want lags of 5 for all variables\n",
        "max_lag = 5\n",
        "\n",
        "#Instead of order, use lags to specify the maximum lag for all variables\n",
        "model = ARDL(endog=endog, exog=exog_vars, lags=max_lag)\n",
        "\n",
        "# Fit the model\n",
        "result = model.fit()\n",
        "\n",
        "# Display the model summary\n",
        "print(result.summary())"
      ],
      "metadata": {
        "colab": {
          "base_uri": "https://localhost:8080/"
        },
        "id": "3DFX3YG8HHgS",
        "outputId": "caab3807-8ab0-4b79-ce01-598279589add"
      },
      "execution_count": null,
      "outputs": [
        {
          "output_type": "stream",
          "name": "stdout",
          "text": [
            "                              ARDL Model Results                              \n",
            "==============================================================================\n",
            "Dep. Variable:             Production   No. Observations:                19689\n",
            "Model:                  ARDL(5, 0, 0)   Log Likelihood             -409535.021\n",
            "Method:               Conditional MLE   S.D. of innovations      262704148.944\n",
            "Date:                Fri, 13 Dec 2024   AIC                         819088.041\n",
            "Time:                        10:02:04   BIC                         819159.029\n",
            "Sample:                             5   HQIC                        819111.284\n",
            "                                19689                                         \n",
            "======================================================================================\n",
            "                         coef    std err          z      P>|z|      [0.025      0.975]\n",
            "--------------------------------------------------------------------------------------\n",
            "const              -2.459e+06   3.88e+06     -0.633      0.527   -1.01e+07    5.15e+06\n",
            "Production.L1         -0.0044      0.007     -0.615      0.538      -0.018       0.010\n",
            "Production.L2         -0.0051      0.007     -0.717      0.474      -0.019       0.009\n",
            "Production.L3         -0.0046      0.007     -0.644      0.519      -0.019       0.009\n",
            "Production.L4         -0.0044      0.007     -0.620      0.535      -0.018       0.010\n",
            "Production.L5         -0.0042      0.007     -0.595      0.552      -0.018       0.010\n",
            "Fertilizer.L0          0.1205      0.020      6.070      0.000       0.082       0.159\n",
            "Annual_Rainfall.L0  1.138e+04   2311.692      4.924      0.000    6850.723    1.59e+04\n",
            "======================================================================================\n"
          ]
        }
      ]
    },
    {
      "cell_type": "code",
      "source": [
        "# Long-term relationship\n",
        "long_term = result.params[1:]\n",
        "\n",
        "# Short-term dynamics: Error Correction Model (ECM)\n",
        "# Instead of 'efs', use the following:\n",
        "ecm = result.resid  # Or result.model.endog - result.fittedvalues\n",
        "print(\"Error Correction Model (ECM) dynamics:\")\n",
        "print(ecm)"
      ],
      "metadata": {
        "colab": {
          "base_uri": "https://localhost:8080/"
        },
        "id": "Q0qe0zRrHmvh",
        "outputId": "a15ed3ae-1804-4a80-e77d-41424ca09122"
      },
      "execution_count": null,
      "outputs": [
        {
          "output_type": "stream",
          "name": "stdout",
          "text": [
            "Error Correction Model (ECM) dynamics:\n",
            "5       -2.038792e+07\n",
            "6       -2.033931e+07\n",
            "7       -2.050801e+07\n",
            "8       -2.045839e+07\n",
            "9       -2.109011e+07\n",
            "             ...     \n",
            "19684   -1.463475e+07\n",
            "19685   -1.459797e+07\n",
            "19686   -1.609852e+07\n",
            "19687   -1.612941e+07\n",
            "19688   -1.532525e+07\n",
            "Length: 19684, dtype: float64\n"
          ]
        }
      ]
    },
    {
      "cell_type": "code",
      "source": [
        "# Check residuals for autocorrelation\n",
        "from statsmodels.stats.diagnostic import acorr_ljungbox\n",
        "ljung_box_test = acorr_ljungbox(result.resid, lags=10)\n",
        "print(ljung_box_test)\n"
      ],
      "metadata": {
        "colab": {
          "base_uri": "https://localhost:8080/"
        },
        "id": "bBhFthMXHpMS",
        "outputId": "97bc6427-e2fe-49ca-8e13-11f66f01f34b"
      },
      "execution_count": null,
      "outputs": [
        {
          "output_type": "stream",
          "name": "stdout",
          "text": [
            "     lb_stat  lb_pvalue\n",
            "1   0.002977   0.956487\n",
            "2   0.004207   0.997899\n",
            "3   0.004733   0.999914\n",
            "4   0.007612   0.999993\n",
            "5   0.008920   1.000000\n",
            "6   0.263345   0.999655\n",
            "7   0.526417   0.999344\n",
            "8   0.792942   0.999249\n",
            "9   1.233138   0.998685\n",
            "10  1.788722   0.997718\n"
          ]
        }
      ]
    },
    {
      "cell_type": "code",
      "source": [
        "plt.figure(figsize=(10, 6))\n",
        "plt.plot(result.resid)\n",
        "plt.title(\"Residuals from ARDL Model\")\n",
        "plt.show()\n"
      ],
      "metadata": {
        "colab": {
          "base_uri": "https://localhost:8080/",
          "height": 545
        },
        "id": "C_WAmWRNHwdh",
        "outputId": "e4f4cc47-47a2-4d7e-d8b4-4a8e2c2f4efc"
      },
      "execution_count": null,
      "outputs": [
        {
          "output_type": "display_data",
          "data": {
            "text/plain": [
              "<Figure size 1000x600 with 1 Axes>"
            ],
            "image/png": "[encoded data removed]"
          },
          "metadata": {}
        }
      ]
    },
    {
      "cell_type": "code",
      "source": [
        "from sklearn.model_selection import train_test_split\n",
        "from sklearn.metrics import mean_squared_error"
      ],
      "metadata": {
        "id": "DlFIPIC5h8XE"
      },
      "execution_count": null,
      "outputs": []
    },
    {
      "cell_type": "code",
      "source": [
        "# Assuming 'data' is your DataFrame with 'Production', 'Fertilizer', and 'Annual_Rainfall' columns\n",
        "X = data[['Fertilizer', 'Annual_Rainfall']]\n",
        "y = data['Production']"
      ],
      "metadata": {
        "id": "Cku2lrgLibvV"
      },
      "execution_count": null,
      "outputs": []
    },
    {
      "cell_type": "code",
      "source": [
        "def calculate_rmse(y_true, y_pred):\n",
        "  \"\"\"Calculates the Root Mean Squared Error.\n",
        "\n",
        "  Args:\n",
        "    y_true: The true values.\n",
        "    y_pred: The predicted values.\n",
        "\n",
        "  Returns:\n",
        "    The RMSE value.\n",
        "  \"\"\"\n",
        "  return np.sqrt(mean_squared_error(y_true, y_pred))"
      ],
      "metadata": {
        "id": "xICuczXFinuT"
      },
      "execution_count": null,
      "outputs": []
    },
    {
      "cell_type": "code",
      "source": [
        "ratios = [0.2, 0.3, 0.4, 0.1]  # Train-test split ratios\n",
        "results = []\n",
        "\n",
        "for ratio in ratios:\n",
        "  # Split the data\n",
        "  X_train, X_test, y_train, y_test = train_test_split(X, y, test_size=1 - ratio, random_state=42)  # You can change random_state\n",
        "\n",
        "  # Fit the ARDL model\n",
        "  model = ARDL(endog=y_train, exog=X_train, lags=5)  # Assuming lags of 5\n",
        "  result = model.fit()\n",
        "\n",
        "  # Make predictions\n",
        "  y_pred = result.predict(start=len(y_train), end=len(y_train) + len(y_test) - 1, exog_oos=X_test)\n",
        "\n",
        "  # Calculate RMSE\n",
        "  rmse = calculate_rmse(y_test, y_pred)\n",
        "\n",
        "  # Store the results\n",
        "  results.append([ratio, rmse])\n",
        "\n",
        "# Create a Pandas DataFrame for the accuracy table\n",
        "accuracy_table = pd.DataFrame(results, columns=['Train-Test Ratio', 'RMSE'])\n",
        "print(accuracy_table)"
      ],
      "metadata": {
        "colab": {
          "base_uri": "https://localhost:8080/"
        },
        "id": "I1t4jukAirGK",
        "outputId": "8cca4d86-9e90-4180-d782-e28cfe4d53e5"
      },
      "execution_count": null,
      "outputs": [
        {
          "output_type": "stream",
          "name": "stderr",
          "text": [
            "/usr/local/lib/python3.10/dist-packages/statsmodels/tsa/base/tsa_model.py:473: ValueWarning: An unsupported index was provided. As a result, forecasts cannot be generated. To use the model for forecasting, use one of the supported classes of index.\n",
            "  self._init_dates(dates, freq)\n",
            "/usr/local/lib/python3.10/dist-packages/statsmodels/tsa/base/tsa_model.py:837: ValueWarning: No supported index is available. Prediction results will be given with an integer index beginning at `start`.\n",
            "  return get_prediction_index(\n",
            "/usr/local/lib/python3.10/dist-packages/statsmodels/tsa/base/tsa_model.py:837: FutureWarning: No supported index is available. In the next version, calling this method in a model without a supported index will result in an exception.\n",
            "  return get_prediction_index(\n",
            "/usr/local/lib/python3.10/dist-packages/statsmodels/tsa/deterministic.py:308: UserWarning: Only PeriodIndexes, DatetimeIndexes with a frequency set, RangesIndexes, and Index with a unit increment support extending. The index is set will contain the position relative to the data length.\n",
            "  fcast_index = self._extend_index(index, steps, forecast_index)\n",
            "/usr/local/lib/python3.10/dist-packages/statsmodels/tsa/base/tsa_model.py:473: ValueWarning: An unsupported index was provided. As a result, forecasts cannot be generated. To use the model for forecasting, use one of the supported classes of index.\n",
            "  self._init_dates(dates, freq)\n",
            "/usr/local/lib/python3.10/dist-packages/statsmodels/tsa/base/tsa_model.py:837: ValueWarning: No supported index is available. Prediction results will be given with an integer index beginning at `start`.\n",
            "  return get_prediction_index(\n",
            "/usr/local/lib/python3.10/dist-packages/statsmodels/tsa/base/tsa_model.py:837: FutureWarning: No supported index is available. In the next version, calling this method in a model without a supported index will result in an exception.\n",
            "  return get_prediction_index(\n",
            "/usr/local/lib/python3.10/dist-packages/statsmodels/tsa/deterministic.py:308: UserWarning: Only PeriodIndexes, DatetimeIndexes with a frequency set, RangesIndexes, and Index with a unit increment support extending. The index is set will contain the position relative to the data length.\n",
            "  fcast_index = self._extend_index(index, steps, forecast_index)\n",
            "/usr/local/lib/python3.10/dist-packages/statsmodels/tsa/base/tsa_model.py:473: ValueWarning: An unsupported index was provided. As a result, forecasts cannot be generated. To use the model for forecasting, use one of the supported classes of index.\n",
            "  self._init_dates(dates, freq)\n",
            "/usr/local/lib/python3.10/dist-packages/statsmodels/tsa/base/tsa_model.py:837: ValueWarning: No supported index is available. Prediction results will be given with an integer index beginning at `start`.\n",
            "  return get_prediction_index(\n",
            "/usr/local/lib/python3.10/dist-packages/statsmodels/tsa/base/tsa_model.py:837: FutureWarning: No supported index is available. In the next version, calling this method in a model without a supported index will result in an exception.\n",
            "  return get_prediction_index(\n",
            "/usr/local/lib/python3.10/dist-packages/statsmodels/tsa/deterministic.py:308: UserWarning: Only PeriodIndexes, DatetimeIndexes with a frequency set, RangesIndexes, and Index with a unit increment support extending. The index is set will contain the position relative to the data length.\n",
            "  fcast_index = self._extend_index(index, steps, forecast_index)\n",
            "/usr/local/lib/python3.10/dist-packages/statsmodels/tsa/base/tsa_model.py:473: ValueWarning: An unsupported index was provided. As a result, forecasts cannot be generated. To use the model for forecasting, use one of the supported classes of index.\n",
            "  self._init_dates(dates, freq)\n",
            "/usr/local/lib/python3.10/dist-packages/statsmodels/tsa/base/tsa_model.py:837: ValueWarning: No supported index is available. Prediction results will be given with an integer index beginning at `start`.\n",
            "  return get_prediction_index(\n",
            "/usr/local/lib/python3.10/dist-packages/statsmodels/tsa/base/tsa_model.py:837: FutureWarning: No supported index is available. In the next version, calling this method in a model without a supported index will result in an exception.\n",
            "  return get_prediction_index(\n",
            "/usr/local/lib/python3.10/dist-packages/statsmodels/tsa/deterministic.py:308: UserWarning: Only PeriodIndexes, DatetimeIndexes with a frequency set, RangesIndexes, and Index with a unit increment support extending. The index is set will contain the position relative to the data length.\n",
            "  fcast_index = self._extend_index(index, steps, forecast_index)\n"
          ]
        },
        {
          "output_type": "stream",
          "name": "stdout",
          "text": [
            "   Train-Test Ratio          RMSE\n",
            "0               0.2  2.665961e+08\n",
            "1               0.3  2.749501e+08\n",
            "2               0.4  2.644728e+08\n",
            "3               0.1  2.720072e+08\n"
          ]
        }
      ]
    },
    {
      "cell_type": "code",
      "source": [
        "import numpy as np\n",
        "from sklearn.metrics import confusion_matrix, classification_report\n",
        "\n",
        "\n",
        "y_actual = np.array([0.7970, 0.71043, 0.23833, 5238.05, 0.420909])  # True target values\n",
        "y_pred_rf = np.array([0.803553, 0.760962, 0.294408, 6771.9586685, 0.456687])  # Predictions from Random Forest\n",
        "y_pred_ardl = np.array([1.250957, 1.219900, 1.338514, 1.061447, 1.025186])  # Predictions from ARDL\n",
        "\n",
        "# Step 1: Define bins (Adjust bins based on your data range)\n",
        "bins = [0, 150, 250, 350, 450, 550]  # Example bins\n",
        "labels = [1, 2, 3, 4, 5]  # Class labels for bins\n",
        "\n",
        "# Discretize continuous values into classes\n",
        "y_actual_classes = np.digitize(y_actual, bins=bins, right=True)\n",
        "y_pred_rf_classes = np.digitize(y_pred_rf, bins=bins, right=True)\n",
        "y_pred_ardl_classes = np.digitize(y_pred_ardl, bins=bins, right=True)\n",
        "\n",
        "# Step 2: Compute Confusion Matrix for each algorithm\n",
        "conf_matrix_rf = confusion_matrix(y_actual_classes, y_pred_rf_classes)\n",
        "conf_matrix_ardl = confusion_matrix(y_actual_classes, y_pred_ardl_classes)\n",
        "\n",
        "# Display Confusion Matrices\n",
        "print(\"Confusion Matrix for Random Forest:\")\n",
        "print(conf_matrix_rf)\n",
        "\n",
        "print(\"\\nConfusion Matrix for ARDL:\")\n",
        "print(conf_matrix_ardl)\n",
        "\n",
        "# Optional: Classification Report\n",
        "print(\"\\nClassification Report for Random Forest:\")\n",
        "print(classification_report(y_actual_classes, y_pred_rf_classes))\n",
        "\n",
        "print(\"\\nClassification Report for ARDL:\")\n",
        "print(classification_report(y_actual_classes, y_pred_ardl_classes))\n"
      ],
      "metadata": {
        "colab": {
          "base_uri": "https://localhost:8080/"
        },
        "id": "AA2xpMJrdh0E",
        "outputId": "c50bbd5d-053c-464b-8551-95373d8e8f61"
      },
      "execution_count": null,
      "outputs": [
        {
          "output_type": "stream",
          "name": "stdout",
          "text": [
            "Confusion Matrix for Random Forest:\n",
            "[[4 0]\n",
            " [0 1]]\n",
            "\n",
            "Confusion Matrix for ARDL:\n",
            "[[4 0]\n",
            " [1 0]]\n",
            "\n",
            "Classification Report for Random Forest:\n",
            "              precision    recall  f1-score   support\n",
            "\n",
            "           1       1.00      1.00      1.00         4\n",
            "           6       1.00      1.00      1.00         1\n",
            "\n",
            "    accuracy                           1.00         5\n",
            "   macro avg       1.00      1.00      1.00         5\n",
            "weighted avg       1.00      1.00      1.00         5\n",
            "\n",
            "\n",
            "Classification Report for ARDL:\n",
            "              precision    recall  f1-score   support\n",
            "\n",
            "           1       0.80      1.00      0.89         4\n",
            "           6       0.00      0.00      0.00         1\n",
            "\n",
            "    accuracy                           0.80         5\n",
            "   macro avg       0.40      0.50      0.44         5\n",
            "weighted avg       0.64      0.80      0.71         5\n",
            "\n"
          ]
        },
        {
          "output_type": "stream",
          "name": "stderr",
          "text": [
            "/usr/local/lib/python3.10/dist-packages/sklearn/metrics/_classification.py:1531: UndefinedMetricWarning: Precision is ill-defined and being set to 0.0 in labels with no predicted samples. Use `zero_division` parameter to control this behavior.\n",
            "  _warn_prf(average, modifier, f\"{metric.capitalize()} is\", len(result))\n",
            "/usr/local/lib/python3.10/dist-packages/sklearn/metrics/_classification.py:1531: UndefinedMetricWarning: Precision is ill-defined and being set to 0.0 in labels with no predicted samples. Use `zero_division` parameter to control this behavior.\n",
            "  _warn_prf(average, modifier, f\"{metric.capitalize()} is\", len(result))\n",
            "/usr/local/lib/python3.10/dist-packages/sklearn/metrics/_classification.py:1531: UndefinedMetricWarning: Precision is ill-defined and being set to 0.0 in labels with no predicted samples. Use `zero_division` parameter to control this behavior.\n",
            "  _warn_prf(average, modifier, f\"{metric.capitalize()} is\", len(result))\n"
          ]
        }
      ]
    },
    {
      "cell_type": "code",
      "source": [
        "import pandas as pd\n",
        "from statsmodels.tsa.ardl import ARDL\n",
        "from sklearn.model_selection import train_test_split\n",
        "\n",
        "from google.colab import drive\n",
        "drive.mount('/content/drive')\n",
        "\n",
        "\n",
        "\n",
        "\n",
        "\n",
        "file_path = '/content/drive/My Drive/Crop yield/crop yield project.csv'\n",
        "data = pd.read_csv(file_path)\n",
        "# 2. Fit the ARDL model\n",
        "X = data[['Fertilizer', 'Annual_Rainfall']]  # Exogenous variables\n",
        "y = data['Yield']  # Target variable (yield)\n",
        "\n",
        "# Split data (if you want to evaluate on a test set)\n",
        "X_train, X_test, y_train, y_test = train_test_split(X, y, test_size=0.1, random_state=42)\n",
        "\n",
        "# Create and fit the ARDL model\n",
        "model = ARDL(endog=y_train, exog=X_train, lags=5)  # Adjust lags as needed\n",
        "result = model.fit()\n",
        "\n",
        "# 3. Predict on the entire dataset (or a specific range)\n",
        "y_pred = result.predict(start=0, end=len(data) - 1, exog_oos=X)\n",
        "# start=0 and end=len(data)-1 to predict for the whole dataset\n",
        "\n",
        "# Now 'y_pred' contains the predicted values for the target variable (yield)\n",
        "print(y_pred)"
      ],
      "metadata": {
        "colab": {
          "base_uri": "https://localhost:8080/"
        },
        "id": "cKNe7nHDr47c",
        "outputId": "97c5b92b-9a2b-4e56-b41d-fc441626bfae"
      },
      "execution_count": null,
      "outputs": [
        {
          "output_type": "stream",
          "name": "stdout",
          "text": [
            "Drive already mounted at /content/drive; to attempt to forcibly remount, call drive.mount(\"/content/drive\", force_remount=True).\n",
            "0              NaN\n",
            "1              NaN\n",
            "2              NaN\n",
            "3              NaN\n",
            "4              NaN\n",
            "           ...    \n",
            "19684    76.664259\n",
            "19685    76.679373\n",
            "19686    76.666392\n",
            "19687    98.646867\n",
            "19688    98.906083\n",
            "Length: 19689, dtype: float64\n"
          ]
        },
        {
          "output_type": "stream",
          "name": "stderr",
          "text": [
            "/usr/local/lib/python3.10/dist-packages/statsmodels/tsa/base/tsa_model.py:473: ValueWarning: An unsupported index was provided. As a result, forecasts cannot be generated. To use the model for forecasting, use one of the supported classes of index.\n",
            "  self._init_dates(dates, freq)\n",
            "/usr/local/lib/python3.10/dist-packages/statsmodels/tsa/base/tsa_model.py:837: ValueWarning: No supported index is available. Prediction results will be given with an integer index beginning at `start`.\n",
            "  return get_prediction_index(\n",
            "/usr/local/lib/python3.10/dist-packages/statsmodels/tsa/base/tsa_model.py:837: FutureWarning: No supported index is available. In the next version, calling this method in a model without a supported index will result in an exception.\n",
            "  return get_prediction_index(\n",
            "/usr/local/lib/python3.10/dist-packages/statsmodels/tsa/deterministic.py:308: UserWarning: Only PeriodIndexes, DatetimeIndexes with a frequency set, RangesIndexes, and Index with a unit increment support extending. The index is set will contain the position relative to the data length.\n",
            "  fcast_index = self._extend_index(index, steps, forecast_index)\n"
          ]
        }
      ]
    },
    {
      "cell_type": "code",
      "source": [
        "import numpy as np\n",
        "y_pred = np.nan_to_num(y_pred, nan=0.0) # Replace NaN with 0.0\n",
        "\n",
        "# Or replace with the mean:\n",
        "# mean_value = np.nanmean(y_pred)  # Calculate mean ignoring NaN\n",
        "print(y_pred)"
      ],
      "metadata": {
        "colab": {
          "base_uri": "https://localhost:8080/"
        },
        "id": "l_cCUTvpuFRI",
        "outputId": "ff1e4e12-bbb9-456c-8002-ee7b441dde5b"
      },
      "execution_count": null,
      "outputs": [
        {
          "output_type": "stream",
          "name": "stdout",
          "text": [
            "[ 0.          0.          0.         ... 76.66639219 98.6468667\n",
            " 98.90608267]\n"
          ]
        }
      ]
    },
    {
      "cell_type": "code",
      "source": [
        "import pandas as pd\n",
        "from statsmodels.tsa.ardl import ARDL\n",
        "from sklearn.model_selection import train_test_split\n",
        "\n",
        "# Assuming 'data' is your DataFrame with 'Production', 'Fertilizer', and 'Annual_Rainfall' columns\n",
        "X = data[['Fertilizer', 'Annual_Rainfall']]\n",
        "y = data['Production']\n",
        "\n",
        "# Split data into training and testing sets\n",
        "X_train, X_test, y_train, y_test = train_test_split(X, y, test_size=0.2, random_state=42)\n",
        "\n",
        "# Create and fit the ARDL model\n",
        "model = ARDL(endog=y_train, exog=X_train, lags=5)  # Adjust lags as needed\n",
        "result = model.fit()\n",
        "\n",
        "# Predict on the test set only\n",
        "y_pred = result.predict(start=len(y_train), end=len(y_train) + len(y_test) - 1, exog_oos=X_test)\n",
        "\n",
        "# Handle NaN values if any (replace with 0 or mean)\n",
        "y_pred = np.nan_to_num(y_pred, nan=0.0)\n",
        "\n",
        "# Display or use y_pred for further analysis\n",
        "print(\"Predicted Values:\")\n",
        "print(y_pred)\n",
        "\n",
        "# Optionally, create a DataFrame for better organization\n",
        "predictions_df = pd.DataFrame({'Actual': y_test, 'Predicted': y_pred})\n",
        "print(\"\\nPredictions DataFrame:\")\n",
        "print(predictions_df)"
      ],
      "metadata": {
        "colab": {
          "base_uri": "https://localhost:8080/"
        },
        "id": "-DpvlP2fvQf5",
        "outputId": "ac47d40f-f68e-4f97-c2ad-bbda2d595bf5"
      },
      "execution_count": null,
      "outputs": [
        {
          "output_type": "stream",
          "name": "stdout",
          "text": [
            "Predicted Values:\n",
            "[ 7663723.49290062 14271915.39017813 40706150.45146164 ...\n",
            " 16462014.9696264  14386400.75214049 11385647.81219944]\n",
            "\n",
            "Predictions DataFrame:\n",
            "       Actual     Predicted\n",
            "18238    1010  7.663723e+06\n",
            "6918    10280  1.427192e+07\n",
            "4894    44026  4.070615e+07\n",
            "10960   27189  1.236819e+07\n",
            "15615    4970  6.494765e+06\n",
            "...       ...           ...\n",
            "8087   535821  8.291358e+06\n",
            "14720       9  1.659294e+07\n",
            "9234    71469  1.646201e+07\n",
            "19610   23981  1.438640e+07\n",
            "1692    42623  1.138565e+07\n",
            "\n",
            "[3938 rows x 2 columns]\n"
          ]
        },
        {
          "output_type": "stream",
          "name": "stderr",
          "text": [
            "/usr/local/lib/python3.10/dist-packages/statsmodels/tsa/base/tsa_model.py:473: ValueWarning: An unsupported index was provided. As a result, forecasts cannot be generated. To use the model for forecasting, use one of the supported classes of index.\n",
            "  self._init_dates(dates, freq)\n",
            "/usr/local/lib/python3.10/dist-packages/statsmodels/tsa/base/tsa_model.py:837: ValueWarning: No supported index is available. Prediction results will be given with an integer index beginning at `start`.\n",
            "  return get_prediction_index(\n",
            "/usr/local/lib/python3.10/dist-packages/statsmodels/tsa/base/tsa_model.py:837: FutureWarning: No supported index is available. In the next version, calling this method in a model without a supported index will result in an exception.\n",
            "  return get_prediction_index(\n",
            "/usr/local/lib/python3.10/dist-packages/statsmodels/tsa/deterministic.py:308: UserWarning: Only PeriodIndexes, DatetimeIndexes with a frequency set, RangesIndexes, and Index with a unit increment support extending. The index is set will contain the position relative to the data length.\n",
            "  fcast_index = self._extend_index(index, steps, forecast_index)\n"
          ]
        }
      ]
    },
    {
      "cell_type": "code",
      "source": [
        "import pandas as pd\n",
        "from statsmodels.tsa.ardl import ARDL\n",
        "from sklearn.model_selection import train_test_split\n",
        "\n",
        "# Assuming 'data' is your DataFrame with 'Production', 'Fertilizer', and 'Annual_Rainfall' columns\n",
        "X = data[['Fertilizer', 'Annual_Rainfall']]\n",
        "y = data['Production']\n",
        "\n",
        "# Split data into training and testing sets\n",
        "X_train, X_test, y_train, y_test = train_test_split(X, y, test_size=0.2, random_state=42)\n",
        "\n",
        "# Create and fit the ARDL model\n",
        "model = ARDL(endog=y_train, exog=X_train, lags=5)  # Adjust lags as needed\n",
        "result = model.fit()\n",
        "\n",
        "# Predict on the test set only\n",
        "y_pred = result.predict(start=len(y_train), end=len(y_train) + len(y_test) - 1, exog_oos=X_test)\n",
        "\n",
        "# Handle NaN values if any (replace with 0 or mean)\n",
        "y_pred = np.nan_to_num(y_pred, nan=0.0)\n",
        "\n",
        "# Display or use y_pred for further analysis\n",
        "print(\"Predicted Values:\")\n",
        "print(y_pred)\n",
        "\n",
        "# Optionally, create a DataFrame for better organization\n",
        "predictions_df = pd.DataFrame({'Actual': y_test, 'Predicted': y_pred})\n",
        "print(\"\\nPredictions DataFrame:\")\n",
        "print(predictions_df)"
      ],
      "metadata": {
        "colab": {
          "base_uri": "https://localhost:8080/"
        },
        "outputId": "402fcb7a-4dfd-49f7-84d5-e70546f6efcc",
        "id": "TToz1-r6v2gz"
      },
      "execution_count": null,
      "outputs": [
        {
          "output_type": "stream",
          "name": "stdout",
          "text": [
            "Predicted Values:\n",
            "[ 7663723.49290062 14271915.39017813 40706150.45146164 ...\n",
            " 16462014.9696264  14386400.75214049 11385647.81219944]\n",
            "\n",
            "Predictions DataFrame:\n",
            "       Actual     Predicted\n",
            "18238    1010  7.663723e+06\n",
            "6918    10280  1.427192e+07\n",
            "4894    44026  4.070615e+07\n",
            "10960   27189  1.236819e+07\n",
            "15615    4970  6.494765e+06\n",
            "...       ...           ...\n",
            "8087   535821  8.291358e+06\n",
            "14720       9  1.659294e+07\n",
            "9234    71469  1.646201e+07\n",
            "19610   23981  1.438640e+07\n",
            "1692    42623  1.138565e+07\n",
            "\n",
            "[3938 rows x 2 columns]\n"
          ]
        },
        {
          "output_type": "stream",
          "name": "stderr",
          "text": [
            "/usr/local/lib/python3.10/dist-packages/statsmodels/tsa/base/tsa_model.py:473: ValueWarning: An unsupported index was provided. As a result, forecasts cannot be generated. To use the model for forecasting, use one of the supported classes of index.\n",
            "  self._init_dates(dates, freq)\n",
            "/usr/local/lib/python3.10/dist-packages/statsmodels/tsa/base/tsa_model.py:837: ValueWarning: No supported index is available. Prediction results will be given with an integer index beginning at `start`.\n",
            "  return get_prediction_index(\n",
            "/usr/local/lib/python3.10/dist-packages/statsmodels/tsa/base/tsa_model.py:837: FutureWarning: No supported index is available. In the next version, calling this method in a model without a supported index will result in an exception.\n",
            "  return get_prediction_index(\n",
            "/usr/local/lib/python3.10/dist-packages/statsmodels/tsa/deterministic.py:308: UserWarning: Only PeriodIndexes, DatetimeIndexes with a frequency set, RangesIndexes, and Index with a unit increment support extending. The index is set will contain the position relative to the data length.\n",
            "  fcast_index = self._extend_index(index, steps, forecast_index)\n"
          ]
        }
      ]
    },
    {
      "cell_type": "code",
      "source": [
        "import pandas as pd\n",
        "import numpy as np\n",
        "from statsmodels.tsa.ardl import ARDL\n",
        "from sklearn.model_selection import train_test_split\n",
        "\n",
        "# Assuming 'data' is your DataFrame with 'Production', 'Fertilizer', and 'Annual_Rainfall' columns\n",
        "X = data[['Fertilizer', 'Annual_Rainfall']]\n",
        "y = data['Production']\n",
        "\n",
        "# Split data into training and testing sets\n",
        "X_train, X_test, y_train, y_test = train_test_split(X, y, test_size=0.1, random_state=42)\n",
        "\n",
        "# Create and fit the ARDL model\n",
        "model = ARDL(endog=y_train, exog=X_train, lags=5)  # Adjust lags as needed\n",
        "result = model.fit()\n",
        "\n",
        "# Predict on the test set only\n",
        "y_pred = result.predict(start=len(y_train), end=len(y_train) + len(y_test) - 1, exog_oos=X_test)\n",
        "\n",
        "# Handle NaN values if any (replace with 0 or mean)\n",
        "y_pred = np.nan_to_num(y_pred, nan=0.0)\n",
        "\n",
        "# Display or use y_pred for further analysis\n",
        "print(\"Predicted Values:\")\n",
        "print(y_pred)\n",
        "\n",
        "# Optionally, create a DataFrame for better organization\n",
        "predictions_df = pd.DataFrame({'Actual': y_test, 'Predicted': y_pred})\n",
        "print(\"\\nPredictions DataFrame:\")\n",
        "print(predictions_df)\n",
        "\n",
        "# --- Prediction for Specific Actual Values ---\n",
        "actual_values_to_predict = [0.796087, 0.710435, 0.238333, 5238.051739, 0.420909]\n",
        "# Create a DataFrame for these values, assuming they correspond to 'Production'\n",
        "# You'll need to provide the corresponding 'Fertilizer' and 'Annual_Rainfall' values\n",
        "# or fill them with a reasonable estimate if not available\n",
        "\n",
        "# Example: Filling with 0 for Fertilizer and Annual_Rainfall (adjust as needed)\n",
        "actual_values_df = pd.DataFrame({\n",
        "    'Fertilizer': [0, 0, 0, 0, 0],\n",
        "    'Annual_Rainfall': [0, 0, 0, 0, 0]\n",
        "}, index=range(len(actual_values_to_predict)))\n",
        "\n",
        "# Predict for these specific values\n",
        "y_pred_specific = result.predict(start=0, end=len(actual_values_df) - 1, exog_oos=actual_values_df)\n",
        "y_pred_specific = np.nan_to_num(y_pred_specific, nan=0.0)\n",
        "\n",
        "print(\"\\nPredictions for Specific Actual Values:\")\n",
        "print(y_pred_specific)"
      ],
      "metadata": {
        "colab": {
          "base_uri": "https://localhost:8080/"
        },
        "id": "qBaBEZ35wJ73",
        "outputId": "00b4629b-aa62-49c7-bd18-070e6728d5f8"
      },
      "execution_count": null,
      "outputs": [
        {
          "output_type": "stream",
          "name": "stdout",
          "text": [
            "Predicted Values:\n",
            "[ 7965450.44667796 13902841.93228209 37614744.08633239 ...\n",
            "  8935671.29121058  9627181.40161207 21417009.38356075]\n",
            "\n",
            "Predictions DataFrame:\n",
            "        Actual     Predicted\n",
            "18238     1010  7.965450e+06\n",
            "6918     10280  1.390284e+07\n",
            "4894     44026  3.761474e+07\n",
            "10960    27189  1.224564e+07\n",
            "15615     4970  6.925914e+06\n",
            "...        ...           ...\n",
            "9676   4333716  5.080598e+07\n",
            "3481      5042  1.090867e+07\n",
            "8810    599570  8.935671e+06\n",
            "9658     19921  9.627181e+06\n",
            "17160     1138  2.141701e+07\n",
            "\n",
            "[1969 rows x 2 columns]\n",
            "\n",
            "Predictions for Specific Actual Values:\n",
            "[0. 0. 0. 0. 0.]\n"
          ]
        },
        {
          "output_type": "stream",
          "name": "stderr",
          "text": [
            "/usr/local/lib/python3.10/dist-packages/statsmodels/tsa/base/tsa_model.py:473: ValueWarning: An unsupported index was provided. As a result, forecasts cannot be generated. To use the model for forecasting, use one of the supported classes of index.\n",
            "  self._init_dates(dates, freq)\n",
            "/usr/local/lib/python3.10/dist-packages/statsmodels/tsa/base/tsa_model.py:837: ValueWarning: No supported index is available. Prediction results will be given with an integer index beginning at `start`.\n",
            "  return get_prediction_index(\n",
            "/usr/local/lib/python3.10/dist-packages/statsmodels/tsa/base/tsa_model.py:837: FutureWarning: No supported index is available. In the next version, calling this method in a model without a supported index will result in an exception.\n",
            "  return get_prediction_index(\n",
            "/usr/local/lib/python3.10/dist-packages/statsmodels/tsa/deterministic.py:308: UserWarning: Only PeriodIndexes, DatetimeIndexes with a frequency set, RangesIndexes, and Index with a unit increment support extending. The index is set will contain the position relative to the data length.\n",
            "  fcast_index = self._extend_index(index, steps, forecast_index)\n"
          ]
        }
      ]
    },
    {
      "cell_type": "code",
      "source": [
        "import pandas as pd\n",
        "import numpy as np\n",
        "from statsmodels.tsa.arima.model import ARIMA\n",
        "\n",
        "# ... (your previous code for loading data, etc.) ...\n",
        "\n",
        "# Assuming 'data' is your DataFrame with 'Yield' column\n",
        "y = data['Yield']\n",
        "\n",
        "# Fit an ARIMA model (you'll need to determine appropriate p, d, q values)\n",
        "# Example: ARIMA(5, 1, 0) - you'll need to experiment to find the best parameters\n",
        "model = ARIMA(y, order=(5, 1, 0))\n",
        "result = model.fit()\n",
        "\n",
        "# Define the actual values for which you want predictions\n",
        "actual_values_to_predict = [0.796087, 0.710435, 0.238333, 5238.051739, 0.420909]\n",
        "\n",
        "# Make predictions for the specific values\n",
        "# Note: You might need to adjust the 'start' and 'end' parameters based on your data\n",
        "# and how the ARIMA model is fitted.\n",
        "y_pred_specific = result.predict(start=len(y), end=len(y) + len(actual_values_to_predict) - 1)\n",
        "y_pred_specific = np.nan_to_num(y_pred_specific, nan=0.0)\n",
        "\n",
        "# Create a DataFrame to display results\n",
        "predictions_df = pd.DataFrame({\n",
        "    'Actual': actual_values_to_predict,\n",
        "    'Predicted': y_pred_specific\n",
        "})\n",
        "\n",
        "print(\"\\nPredictions for Specific Actual Values (using ARIMA):\")\n",
        "print(predictions_df)"
      ],
      "metadata": {
        "colab": {
          "base_uri": "https://localhost:8080/"
        },
        "id": "J0IHoAkhzC8d",
        "outputId": "9c9ccdaa-9c92-4183-e79c-bd47b9f59289"
      },
      "execution_count": null,
      "outputs": [
        {
          "output_type": "stream",
          "name": "stdout",
          "text": [
            "\n",
            "Predictions for Specific Actual Values (using ARIMA):\n",
            "        Actual  Predicted\n",
            "0     0.796087   1.250957\n",
            "1     0.710435   1.219900\n",
            "2     0.238333   1.338514\n",
            "3  5238.051739   1.061447\n",
            "4     0.420909   1.025186\n"
          ]
        }
      ]
    },
    {
      "cell_type": "code",
      "source": [
        "import numpy as np\n",
        "from sklearn.metrics import confusion_matrix, classification_report\n",
        "\n",
        "from google.colab import drive\n",
        "drive.mount('/content/drive')\n",
        "import pandas as pd\n",
        "\n",
        "\n",
        "file_path = '/content/drive/My Drive/Crop yield/crop yield project.csv'\n",
        "data = pd.read_csv(file_path)\n",
        "\n",
        "\n",
        "print(data.head())\n",
        "\n",
        "# Assuming y_actual, y_pred_rf, and y_pred_ardl are defined in your previous cells:\n",
        "# Replace these with the actual values or variables from your previous code.\n",
        "y_actual = np.array([0.7970, 0.71043, 0.23833, 5238.05, 0.420909]) # Example values for demonstration\n",
        "y_pred_rf = np.array([0.803553, 0.760962, 0.294408, 6771.9586685, 0.456687]) # Example values for demonstration\n",
        "y_pred_ardl = np.array([1.250957, 1.219900, 1.338514, 1.061447, 1.025186])  # Example values for demonstration\n",
        "\n",
        "\n",
        "# Define minimum and maximum (adjust if needed)\n",
        "min_val = min(y_actual)\n",
        "max_val = max(y_actual)\n",
        "\n",
        "# Calculate bin edges using logarithmic spacing (adjust num_bins)\n",
        "num_bins = 5  # Choose the desired number of bins\n",
        "bins = np.logspace(np.log10(min_val), np.log10(max_val), num_bins + 1)\n",
        "\n",
        "# Discretize continuous values into classes\n",
        "y_actual_classes = np.digitize(y_actual, bins=bins, right=True)\n",
        "y_pred_rf_classes = np.digitize(y_pred_rf, bins=bins, right=True)\n",
        "y_pred_ardl_classes = np.digitize(y_pred_ardl, bins=bins, right=True)\n",
        "\n",
        "conf_matrix_rf = confusion_matrix(y_actual_classes, y_pred_rf_classes)\n",
        "conf_matrix_ardl = confusion_matrix(y_actual_classes, y_pred_ardl_classes)\n",
        "\n",
        "# Display Confusion Matrices\n",
        "print(\"Confusion Matrix for Random Forest:\")\n",
        "print(conf_matrix_rf)\n",
        "\n",
        "print(\"\\nConfusion Matrix for ARDL:\")\n",
        "print(conf_matrix_ardl)\n",
        "\n",
        "# Optional: Classification Report\n",
        "print(\"\\nClassification Report for Random Forest:\")\n",
        "print(classification_report(y_actual_classes, y_pred_rf_classes))\n",
        "\n",
        "print(\"\\nClassification Report for ARDL:\")\n",
        "print(classification_report(y_actual_classes, y_pred_ardl_classes))\n"
      ],
      "metadata": {
        "colab": {
          "base_uri": "https://localhost:8080/"
        },
        "id": "iAO7PNIhNoxM",
        "outputId": "02e8f383-2aa4-4818-aa4a-25362fdbe083"
      },
      "execution_count": null,
      "outputs": [
        {
          "output_type": "stream",
          "name": "stdout",
          "text": [
            "Drive already mounted at /content/drive; to attempt to forcibly remount, call drive.mount(\"/content/drive\", force_remount=True).\n",
            "           Crop  Crop_Year       Season  State     Area  Production  \\\n",
            "0      Arecanut       1997  Whole Year   Assam  73814.0       56708   \n",
            "1     Arhar/Tur       1997  Kharif       Assam   6637.0        4685   \n",
            "2   Castor seed       1997  Kharif       Assam    796.0          22   \n",
            "3      Coconut        1997  Whole Year   Assam  19656.0   126905000   \n",
            "4  Cotton(lint)       1997  Kharif       Assam   1739.0         794   \n",
            "\n",
            "   Annual_Rainfall  Fertilizer  Pesticide        Yield  \n",
            "0           2051.4  7024878.38   22882.34     0.796087  \n",
            "1           2051.4   631643.29    2057.47     0.710435  \n",
            "2           2051.4    75755.32     246.76     0.238333  \n",
            "3           2051.4  1870661.52    6093.36  5238.051739  \n",
            "4           2051.4   165500.63     539.09     0.420909  \n",
            "Confusion Matrix for Random Forest:\n",
            "[[0 1 0 0]\n",
            " [0 3 0 0]\n",
            " [0 0 0 1]\n",
            " [0 0 0 0]]\n",
            "\n",
            "Confusion Matrix for ARDL:\n",
            "[[0 1 0]\n",
            " [0 3 0]\n",
            " [0 1 0]]\n",
            "\n",
            "Classification Report for Random Forest:\n",
            "              precision    recall  f1-score   support\n",
            "\n",
            "           0       0.00      0.00      0.00         1\n",
            "           1       0.75      1.00      0.86         3\n",
            "           5       0.00      0.00      0.00         1\n",
            "           6       0.00      0.00      0.00         0\n",
            "\n",
            "    accuracy                           0.60         5\n",
            "   macro avg       0.19      0.25      0.21         5\n",
            "weighted avg       0.45      0.60      0.51         5\n",
            "\n",
            "\n",
            "Classification Report for ARDL:\n",
            "              precision    recall  f1-score   support\n",
            "\n",
            "           0       0.00      0.00      0.00         1\n",
            "           1       0.60      1.00      0.75         3\n",
            "           5       0.00      0.00      0.00         1\n",
            "\n",
            "    accuracy                           0.60         5\n",
            "   macro avg       0.20      0.33      0.25         5\n",
            "weighted avg       0.36      0.60      0.45         5\n",
            "\n"
          ]
        },
        {
          "output_type": "stream",
          "name": "stderr",
          "text": [
            "/usr/local/lib/python3.10/dist-packages/sklearn/metrics/_classification.py:1531: UndefinedMetricWarning: Precision is ill-defined and being set to 0.0 in labels with no predicted samples. Use `zero_division` parameter to control this behavior.\n",
            "  _warn_prf(average, modifier, f\"{metric.capitalize()} is\", len(result))\n",
            "/usr/local/lib/python3.10/dist-packages/sklearn/metrics/_classification.py:1531: UndefinedMetricWarning: Recall is ill-defined and being set to 0.0 in labels with no true samples. Use `zero_division` parameter to control this behavior.\n",
            "  _warn_prf(average, modifier, f\"{metric.capitalize()} is\", len(result))\n",
            "/usr/local/lib/python3.10/dist-packages/sklearn/metrics/_classification.py:1531: UndefinedMetricWarning: Precision is ill-defined and being set to 0.0 in labels with no predicted samples. Use `zero_division` parameter to control this behavior.\n",
            "  _warn_prf(average, modifier, f\"{metric.capitalize()} is\", len(result))\n",
            "/usr/local/lib/python3.10/dist-packages/sklearn/metrics/_classification.py:1531: UndefinedMetricWarning: Recall is ill-defined and being set to 0.0 in labels with no true samples. Use `zero_division` parameter to control this behavior.\n",
            "  _warn_prf(average, modifier, f\"{metric.capitalize()} is\", len(result))\n",
            "/usr/local/lib/python3.10/dist-packages/sklearn/metrics/_classification.py:1531: UndefinedMetricWarning: Precision is ill-defined and being set to 0.0 in labels with no predicted samples. Use `zero_division` parameter to control this behavior.\n",
            "  _warn_prf(average, modifier, f\"{metric.capitalize()} is\", len(result))\n",
            "/usr/local/lib/python3.10/dist-packages/sklearn/metrics/_classification.py:1531: UndefinedMetricWarning: Recall is ill-defined and being set to 0.0 in labels with no true samples. Use `zero_division` parameter to control this behavior.\n",
            "  _warn_prf(average, modifier, f\"{metric.capitalize()} is\", len(result))\n",
            "/usr/local/lib/python3.10/dist-packages/sklearn/metrics/_classification.py:1531: UndefinedMetricWarning: Precision is ill-defined and being set to 0.0 in labels with no predicted samples. Use `zero_division` parameter to control this behavior.\n",
            "  _warn_prf(average, modifier, f\"{metric.capitalize()} is\", len(result))\n",
            "/usr/local/lib/python3.10/dist-packages/sklearn/metrics/_classification.py:1531: UndefinedMetricWarning: Precision is ill-defined and being set to 0.0 in labels with no predicted samples. Use `zero_division` parameter to control this behavior.\n",
            "  _warn_prf(average, modifier, f\"{metric.capitalize()} is\", len(result))\n",
            "/usr/local/lib/python3.10/dist-packages/sklearn/metrics/_classification.py:1531: UndefinedMetricWarning: Precision is ill-defined and being set to 0.0 in labels with no predicted samples. Use `zero_division` parameter to control this behavior.\n",
            "  _warn_prf(average, modifier, f\"{metric.capitalize()} is\", len(result))\n"
          ]
        }
      ]
    }
  ]
}